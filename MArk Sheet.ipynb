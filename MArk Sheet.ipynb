{
 "cells": [
  {
   "cell_type": "raw",
   "metadata": {},
   "source": [
    "Mark Sheet\n"
   ]
  },
  {
   "cell_type": "code",
   "execution_count": 17,
   "metadata": {},
   "outputs": [
    {
     "name": "stdout",
     "output_type": "stream",
     "text": [
      "('English', 'Math', 'Urdu', 'Sci')\n",
      "marks[0] marks[1] marks[2] marks[3]\n"
     ]
    }
   ],
   "source": [
    "Subject = (\"English\",\"Math\",\"Urdu\",\"Sci\")\n",
    "marks = (85,63,78,72)\n",
    "total_marks_obtained = marks[0] + marks[1] + marks[2] + marks[3] \n",
    "print(Subject)\n",
    "print(\"marks[0]\",\"marks[1]\",\"marks[2]\",\"marks[3]\")"
   ]
  },
  {
   "cell_type": "code",
   "execution_count": null,
   "metadata": {},
   "outputs": [],
   "source": []
  }
 ],
 "metadata": {
  "kernelspec": {
   "display_name": "Python 3",
   "language": "python",
   "name": "python3"
  },
  "language_info": {
   "codemirror_mode": {
    "name": "ipython",
    "version": 3
   },
   "file_extension": ".py",
   "mimetype": "text/x-python",
   "name": "python",
   "nbconvert_exporter": "python",
   "pygments_lexer": "ipython3",
   "version": "3.7.3"
  }
 },
 "nbformat": 4,
 "nbformat_minor": 2
}
