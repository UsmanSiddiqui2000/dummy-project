{
 "cells": [
  {
   "cell_type": "raw",
   "metadata": {},
   "source": [
    "Practise Relation"
   ]
  },
  {
   "cell_type": "code",
   "execution_count": 8,
   "metadata": {},
   "outputs": [
    {
     "name": "stdout",
     "output_type": "stream",
     "text": [
      "Second Child Name:  Rohail  Nasir\n",
      "Second Child Name:  Rohail  Kamran\n",
      "Second Child Name:  Rohail  Sheikh\n",
      "Second Child Name:  Rohail  Qazi\n"
     ]
    }
   ],
   "source": [
    "first_names = [\"Asher \", \"Rohail \", \"Sami \",\"Neha\"]\n",
    "last_names = [\"Nasir\", \"Kamran\", \"Sheikh\", \"Qazi\"]\n",
    "full_names = []\n",
    "index =1\n",
    "\n",
    "for a_last_name in last_names:\n",
    "    for a_first_name in first_names:\n",
    "        full_names.append(a_first_name + \" \" +a_last_name)\n",
    "    print(\"Second Child Name: \", full_names[index])\n",
    "    index += 4\n",
    "    \n",
    "    "
   ]
  },
  {
   "cell_type": "code",
   "execution_count": 7,
   "metadata": {},
   "outputs": [
    {
     "name": "stdout",
     "output_type": "stream",
     "text": [
      "Third Child Name:  Sami  Nasir\n",
      "Third Child Name:  Sami  Kamran\n",
      "Third Child Name:  Sami  Sheikh\n",
      "Third Child Name:  Sami  Qazi\n"
     ]
    }
   ],
   "source": [
    "first_names = [\"Asher \", \"Rohail \", \"Sami \",\"Neha\"]\n",
    "last_names = [\"Nasir\", \"Kamran\", \"Sheikh\", \"Qazi\"]\n",
    "full_names = []\n",
    "index =2\n",
    "\n",
    "for a_last_name in last_names:\n",
    "    for a_first_name in first_names:\n",
    "        full_names.append(a_first_name + \" \" +a_last_name)\n",
    "    print(\"Third Child Name: \", full_names[index])\n",
    "    index += 4\n"
   ]
  },
  {
   "cell_type": "code",
   "execution_count": null,
   "metadata": {},
   "outputs": [],
   "source": []
  }
 ],
 "metadata": {
  "kernelspec": {
   "display_name": "Python 3",
   "language": "python",
   "name": "python3"
  }
 },
 "nbformat": 4,
 "nbformat_minor": 2
}
